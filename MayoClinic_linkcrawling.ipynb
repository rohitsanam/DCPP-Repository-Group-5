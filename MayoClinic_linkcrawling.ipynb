{
 "cells": [
  {
   "cell_type": "code",
   "execution_count": 1,
   "id": "b93f1a5a",
   "metadata": {},
   "outputs": [],
   "source": [
    "import logging\n",
    "import time\n",
    "import json\n",
    "from urllib.parse import urljoin\n",
    "import requests\n",
    "from bs4 import BeautifulSoup\n",
    "from url_normalize import url_normalize"
   ]
  },
  {
   "cell_type": "code",
   "execution_count": 2,
   "id": "4354400b",
   "metadata": {},
   "outputs": [],
   "source": [
    "logging.basicConfig(format = '%(asctime)s %(levelname)s:%(message)s', level = logging.INFO)\n",
    "\n",
    "class Crawler:\n",
    "\n",
    "    def __init__(self, urls = [], domains = [], limit = 50):\n",
    "        \n",
    "        self.visited_urls = []\n",
    "        self.urls_to_visit = urls\n",
    "        self.limit = limit\n",
    "        self.domains = domains\n",
    "        return\n",
    "\n",
    "    def download_url(self, url):\n",
    "        try:\n",
    "            time.sleep(1)\n",
    "            return requests.get(url).text\n",
    "        \n",
    "        except Exception as E:\n",
    "            return ''\n",
    "\n",
    "    def get_linked_urls(self, url, html):\n",
    "        soup = BeautifulSoup(html, 'html.parser')\n",
    "        \n",
    "        for link in soup.find_all('a'):\n",
    "            \n",
    "            path = link.get('href')\n",
    "            \n",
    "            if path and (path.startswith('/') or not path.startswith('https://')):\n",
    "                path = urljoin(url, path)\n",
    "\n",
    "            yield path\n",
    "\n",
    "    def domain_check(self, url):\n",
    "        for domain in self.domains:\n",
    "            if domain in url:\n",
    "                return True\n",
    "        return False\n",
    "\n",
    "    def add_url_to_visit(self, url):\n",
    "        total_crawled = len(self.visited_urls) + len(self.urls_to_visit)\n",
    "        \n",
    "        if total_crawled >= self.limit:\n",
    "            return\n",
    "        \n",
    "        if not url or url == '':\n",
    "            return\n",
    "\n",
    "        if self.domain_check(url) == False:\n",
    "            return\n",
    "\n",
    "        if url not in self.visited_urls and url not in self.urls_to_visit:\n",
    "            self.urls_to_visit.append(url)\n",
    "            return\n",
    "\n",
    "    def crawl(self, url):\n",
    "        html = self.download_url(url)\n",
    "        \n",
    "        for url in self.get_linked_urls(url, html):\n",
    "            self.add_url_to_visit(url)\n",
    "\n",
    "    def run(self):\n",
    "        while self.urls_to_visit:\n",
    "            url = self.urls_to_visit.pop(0)\n",
    "            \n",
    "            logging.info(f' Fetching {url}')\n",
    "            \n",
    "            try:\n",
    "                self.crawl(url)\n",
    "            \n",
    "            except Exception:\n",
    "                logging.exception(f' Failed to fetch {url}')\n",
    "            \n",
    "            finally:\n",
    "                self.visited_urls.append(url)"
   ]
  },
  {
   "cell_type": "code",
   "execution_count": 8,
   "id": "d2051480",
   "metadata": {},
   "outputs": [
    {
     "name": "stderr",
     "output_type": "stream",
     "text": [
      "2021-10-19 10:04:51,795 INFO: Fetching https://www.genome.jp/entry/H00016\n"
     ]
    }
   ],
   "source": [
    "if __name__ == '__main__':\n",
    "\n",
    "    #crawler = Crawler(urls = ['https://www.mayoclinic.org/diseases-conditions/index'], domains = ['https://www.mayoclinic.org/diseases-conditions'], limit = 1000)\n",
    "    crawler = Crawler(urls = ['https://www.genome.jp/entry/H00016'], domains = ['https://www.genome.jp/entry/H00016'], limit = 1000)\n",
    "    crawler.run()\n",
    "\n",
    "    display = False\n",
    "    \n",
    "    if display == True:\n",
    "        print(crawler.visited_urls, flush = True)\n",
    "\n",
    "    # Saving visited URLs\n",
    "    with open('crawled_URLs.json', 'w+') as f:\n",
    "        json.dump(crawler.visited_urls, f)"
   ]
  }
 ],
 "metadata": {
  "kernelspec": {
   "display_name": "Python 3",
   "language": "python",
   "name": "python3"
  },
  "language_info": {
   "codemirror_mode": {
    "name": "ipython",
    "version": 3
   },
   "file_extension": ".py",
   "mimetype": "text/x-python",
   "name": "python",
   "nbconvert_exporter": "python",
   "pygments_lexer": "ipython3",
   "version": "3.8.8"
  }
 },
 "nbformat": 4,
 "nbformat_minor": 5
}
